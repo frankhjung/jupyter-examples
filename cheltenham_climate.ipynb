{
 "cells": [
  {
   "cell_type": "markdown",
   "metadata": {},
   "source": [
    "## Introduction\n",
    "\n",
    "This investigation is to look at historic maximum temperatures in Cheltenham, VIC to see if there is any evidence for climate change."
   ]
  },
  {
   "cell_type": "markdown",
   "metadata": {},
   "source": [
    "\n",
    "## Source\n",
    "\n",
    "Data is sourced from the [BOM](http://www.bom.gov.au/vic/forecasts/melbourne.shtml) for Cheltenham, Victoria. "
   ]
  },
  {
   "cell_type": "code",
   "execution_count": 317,
   "metadata": {},
   "outputs": [],
   "source": [
    "%matplotlib inline\n",
    "import datetime as dt\n",
    "import numpy as np\n",
    "import pandas as pd\n",
    "import matplotlib.dates as dates\n",
    "import matplotlib.pyplot as plt"
   ]
  },
  {
   "cell_type": "markdown",
   "metadata": {},
   "source": [
    "## Load CSV Data"
   ]
  },
  {
   "cell_type": "code",
   "execution_count": 226,
   "metadata": {},
   "outputs": [
    {
     "data": {
      "text/html": [
       "<div>\n",
       "<style scoped>\n",
       "    .dataframe tbody tr th:only-of-type {\n",
       "        vertical-align: middle;\n",
       "    }\n",
       "\n",
       "    .dataframe tbody tr th {\n",
       "        vertical-align: top;\n",
       "    }\n",
       "\n",
       "    .dataframe thead th {\n",
       "        text-align: right;\n",
       "    }\n",
       "</style>\n",
       "<table border=\"1\" class=\"dataframe\">\n",
       "  <thead>\n",
       "    <tr style=\"text-align: right;\">\n",
       "      <th></th>\n",
       "      <th>Year</th>\n",
       "      <th>Month</th>\n",
       "      <th>Day</th>\n",
       "      <th>Maximum temperature (Degree C)</th>\n",
       "    </tr>\n",
       "  </thead>\n",
       "  <tbody>\n",
       "    <tr>\n",
       "      <th>3287</th>\n",
       "      <td>1980</td>\n",
       "      <td>1</td>\n",
       "      <td>1</td>\n",
       "      <td>19.6</td>\n",
       "    </tr>\n",
       "    <tr>\n",
       "      <th>3288</th>\n",
       "      <td>1980</td>\n",
       "      <td>1</td>\n",
       "      <td>2</td>\n",
       "      <td>31.4</td>\n",
       "    </tr>\n",
       "    <tr>\n",
       "      <th>3289</th>\n",
       "      <td>1980</td>\n",
       "      <td>1</td>\n",
       "      <td>3</td>\n",
       "      <td>33.6</td>\n",
       "    </tr>\n",
       "    <tr>\n",
       "      <th>3290</th>\n",
       "      <td>1980</td>\n",
       "      <td>1</td>\n",
       "      <td>4</td>\n",
       "      <td>20.4</td>\n",
       "    </tr>\n",
       "    <tr>\n",
       "      <th>3291</th>\n",
       "      <td>1980</td>\n",
       "      <td>1</td>\n",
       "      <td>5</td>\n",
       "      <td>19.3</td>\n",
       "    </tr>\n",
       "  </tbody>\n",
       "</table>\n",
       "</div>"
      ],
      "text/plain": [
       "      Year  Month  Day  Maximum temperature (Degree C)\n",
       "3287  1980      1    1                            19.6\n",
       "3288  1980      1    2                            31.4\n",
       "3289  1980      1    3                            33.6\n",
       "3290  1980      1    4                            20.4\n",
       "3291  1980      1    5                            19.3"
      ]
     },
     "execution_count": 226,
     "metadata": {},
     "output_type": "execute_result"
    }
   ],
   "source": [
    "data = pd.read_csv(\n",
    "    'data/IDCJAC0010_086077_1800_Data.csv',\n",
    "    usecols=['Year', 'Month', 'Day', 'Maximum temperature (Degree C)'])\n",
    "data[data.Year == 1980].head()"
   ]
  },
  {
   "cell_type": "markdown",
   "metadata": {},
   "source": [
    "Extract the Year, Month and Day columns into a date column."
   ]
  },
  {
   "cell_type": "code",
   "execution_count": 227,
   "metadata": {},
   "outputs": [
    {
     "data": {
      "text/plain": [
       "(            date\n",
       " 0     1971-01-01\n",
       " 1     1971-01-02\n",
       " 2     1971-01-03\n",
       " 3     1971-01-04\n",
       " 4     1971-01-05\n",
       " ...          ...\n",
       " 18543 2021-10-08\n",
       " 18544 2021-10-09\n",
       " 18545 2021-10-10\n",
       " 18546 2021-10-11\n",
       " 18547 2021-10-12\n",
       " \n",
       " [18548 rows x 1 columns],\n",
       " date    datetime64[ns]\n",
       " dtype: object,\n",
       " Index(['date'], dtype='object'))"
      ]
     },
     "execution_count": 227,
     "metadata": {},
     "output_type": "execute_result"
    }
   ],
   "source": [
    "df = pd.DataFrame(data=pd.to_datetime(data[['Year', 'Month', 'Day']]),\n",
    "                  columns=['date'])\n",
    "df, df.dtypes, df.columns"
   ]
  },
  {
   "cell_type": "code",
   "execution_count": 228,
   "metadata": {},
   "outputs": [
    {
     "data": {
      "text/plain": [
       "(            date   months\n",
       " 0     1971-01-01  1971-01\n",
       " 1     1971-01-02  1971-01\n",
       " 2     1971-01-03  1971-01\n",
       " 3     1971-01-04  1971-01\n",
       " 4     1971-01-05  1971-01\n",
       " ...          ...      ...\n",
       " 18543 2021-10-08  2021-10\n",
       " 18544 2021-10-09  2021-10\n",
       " 18545 2021-10-10  2021-10\n",
       " 18546 2021-10-11  2021-10\n",
       " 18547 2021-10-12  2021-10\n",
       " \n",
       " [18548 rows x 2 columns],\n",
       " date      datetime64[ns]\n",
       " months            object\n",
       " dtype: object,\n",
       " Index(['date', 'months'], dtype='object'))"
      ]
     },
     "execution_count": 228,
     "metadata": {},
     "output_type": "execute_result"
    }
   ],
   "source": [
    "df['months'] = df['date'].dt.strftime('%Y-%m')        # required for analysis\n",
    "# df['period'] = df['date'].map(dt.datetime.toordinal)  # required for linear regression\n",
    "df, df.dtypes, df.columns"
   ]
  },
  {
   "cell_type": "markdown",
   "metadata": {},
   "source": [
    "Append temperatures:"
   ]
  },
  {
   "cell_type": "code",
   "execution_count": 229,
   "metadata": {},
   "outputs": [
    {
     "data": {
      "text/plain": [
       "(            date   months  maximum\n",
       " 0     1971-01-01  1971-01      NaN\n",
       " 1     1971-01-02  1971-01      NaN\n",
       " 2     1971-01-03  1971-01      NaN\n",
       " 3     1971-01-04  1971-01      NaN\n",
       " 4     1971-01-05  1971-01      NaN\n",
       " ...          ...      ...      ...\n",
       " 18543 2021-10-08  2021-10     21.2\n",
       " 18544 2021-10-09  2021-10     25.0\n",
       " 18545 2021-10-10  2021-10     15.4\n",
       " 18546 2021-10-11  2021-10     14.5\n",
       " 18547 2021-10-12  2021-10     19.5\n",
       " \n",
       " [18548 rows x 3 columns],\n",
       " date       datetime64[ns]\n",
       " months             object\n",
       " maximum           float64\n",
       " dtype: object,\n",
       " Index(['date', 'months', 'maximum'], dtype='object'))"
      ]
     },
     "execution_count": 229,
     "metadata": {},
     "output_type": "execute_result"
    }
   ],
   "source": [
    "df['maximum'] = data['Maximum temperature (Degree C)']\n",
    "df, df.dtypes, df.columns"
   ]
  },
  {
   "cell_type": "markdown",
   "metadata": {},
   "source": [
    "Drop missing data:"
   ]
  },
  {
   "cell_type": "code",
   "execution_count": 230,
   "metadata": {},
   "outputs": [],
   "source": [
    "df.dropna(subset=['maximum'], inplace=True)"
   ]
  },
  {
   "cell_type": "markdown",
   "metadata": {},
   "source": [
    "Group by year and month (`period`):"
   ]
  },
  {
   "cell_type": "code",
   "execution_count": 231,
   "metadata": {},
   "outputs": [
    {
     "data": {
      "text/html": [
       "<div>\n",
       "<style scoped>\n",
       "    .dataframe tbody tr th:only-of-type {\n",
       "        vertical-align: middle;\n",
       "    }\n",
       "\n",
       "    .dataframe tbody tr th {\n",
       "        vertical-align: top;\n",
       "    }\n",
       "\n",
       "    .dataframe thead th {\n",
       "        text-align: right;\n",
       "    }\n",
       "</style>\n",
       "<table border=\"1\" class=\"dataframe\">\n",
       "  <thead>\n",
       "    <tr style=\"text-align: right;\">\n",
       "      <th></th>\n",
       "      <th>months</th>\n",
       "      <th>maximum</th>\n",
       "    </tr>\n",
       "  </thead>\n",
       "  <tbody>\n",
       "    <tr>\n",
       "      <th>0</th>\n",
       "      <td>1971-08</td>\n",
       "      <td>14.139286</td>\n",
       "    </tr>\n",
       "    <tr>\n",
       "      <th>1</th>\n",
       "      <td>1971-09</td>\n",
       "      <td>16.240000</td>\n",
       "    </tr>\n",
       "    <tr>\n",
       "      <th>2</th>\n",
       "      <td>1971-10</td>\n",
       "      <td>18.238710</td>\n",
       "    </tr>\n",
       "    <tr>\n",
       "      <th>3</th>\n",
       "      <td>1971-11</td>\n",
       "      <td>19.500000</td>\n",
       "    </tr>\n",
       "    <tr>\n",
       "      <th>4</th>\n",
       "      <td>1971-12</td>\n",
       "      <td>24.074194</td>\n",
       "    </tr>\n",
       "    <tr>\n",
       "      <th>...</th>\n",
       "      <td>...</td>\n",
       "      <td>...</td>\n",
       "    </tr>\n",
       "    <tr>\n",
       "      <th>596</th>\n",
       "      <td>2021-06</td>\n",
       "      <td>15.163333</td>\n",
       "    </tr>\n",
       "    <tr>\n",
       "      <th>597</th>\n",
       "      <td>2021-07</td>\n",
       "      <td>14.306667</td>\n",
       "    </tr>\n",
       "    <tr>\n",
       "      <th>598</th>\n",
       "      <td>2021-08</td>\n",
       "      <td>16.225000</td>\n",
       "    </tr>\n",
       "    <tr>\n",
       "      <th>599</th>\n",
       "      <td>2021-09</td>\n",
       "      <td>18.044828</td>\n",
       "    </tr>\n",
       "    <tr>\n",
       "      <th>600</th>\n",
       "      <td>2021-10</td>\n",
       "      <td>18.900000</td>\n",
       "    </tr>\n",
       "  </tbody>\n",
       "</table>\n",
       "<p>601 rows × 2 columns</p>\n",
       "</div>"
      ],
      "text/plain": [
       "      months    maximum\n",
       "0    1971-08  14.139286\n",
       "1    1971-09  16.240000\n",
       "2    1971-10  18.238710\n",
       "3    1971-11  19.500000\n",
       "4    1971-12  24.074194\n",
       "..       ...        ...\n",
       "596  2021-06  15.163333\n",
       "597  2021-07  14.306667\n",
       "598  2021-08  16.225000\n",
       "599  2021-09  18.044828\n",
       "600  2021-10  18.900000\n",
       "\n",
       "[601 rows x 2 columns]"
      ]
     },
     "execution_count": 231,
     "metadata": {},
     "output_type": "execute_result"
    }
   ],
   "source": [
    "# ym = group by year & month\n",
    "ym = df.groupby(['months'])['maximum'].mean().reset_index()\n",
    "ym"
   ]
  },
  {
   "cell_type": "markdown",
   "metadata": {},
   "source": [
    "What are the hottest months?"
   ]
  },
  {
   "cell_type": "code",
   "execution_count": 232,
   "metadata": {},
   "outputs": [
    {
     "data": {
      "text/html": [
       "<div>\n",
       "<style scoped>\n",
       "    .dataframe tbody tr th:only-of-type {\n",
       "        vertical-align: middle;\n",
       "    }\n",
       "\n",
       "    .dataframe tbody tr th {\n",
       "        vertical-align: top;\n",
       "    }\n",
       "\n",
       "    .dataframe thead th {\n",
       "        text-align: right;\n",
       "    }\n",
       "</style>\n",
       "<table border=\"1\" class=\"dataframe\">\n",
       "  <thead>\n",
       "    <tr style=\"text-align: right;\">\n",
       "      <th></th>\n",
       "      <th>months</th>\n",
       "      <th>maximum</th>\n",
       "    </tr>\n",
       "  </thead>\n",
       "  <tbody>\n",
       "    <tr>\n",
       "      <th>567</th>\n",
       "      <td>2019-01</td>\n",
       "      <td>29.045161</td>\n",
       "    </tr>\n",
       "    <tr>\n",
       "      <th>304</th>\n",
       "      <td>1997-02</td>\n",
       "      <td>29.142308</td>\n",
       "    </tr>\n",
       "    <tr>\n",
       "      <th>138</th>\n",
       "      <td>1983-02</td>\n",
       "      <td>29.239286</td>\n",
       "    </tr>\n",
       "    <tr>\n",
       "      <th>340</th>\n",
       "      <td>2000-02</td>\n",
       "      <td>29.418519</td>\n",
       "    </tr>\n",
       "    <tr>\n",
       "      <th>113</th>\n",
       "      <td>1981-01</td>\n",
       "      <td>29.487097</td>\n",
       "    </tr>\n",
       "  </tbody>\n",
       "</table>\n",
       "</div>"
      ],
      "text/plain": [
       "      months    maximum\n",
       "567  2019-01  29.045161\n",
       "304  1997-02  29.142308\n",
       "138  1983-02  29.239286\n",
       "340  2000-02  29.418519\n",
       "113  1981-01  29.487097"
      ]
     },
     "execution_count": 232,
     "metadata": {},
     "output_type": "execute_result"
    }
   ],
   "source": [
    "ym[ym.maximum > 29.0].sort_values('maximum')"
   ]
  },
  {
   "cell_type": "markdown",
   "metadata": {},
   "source": [
    "So, lets reduce our data frame to just the average of January and Feburary for each year."
   ]
  },
  {
   "cell_type": "code",
   "execution_count": 233,
   "metadata": {},
   "outputs": [
    {
     "data": {
      "text/html": [
       "<div>\n",
       "<style scoped>\n",
       "    .dataframe tbody tr th:only-of-type {\n",
       "        vertical-align: middle;\n",
       "    }\n",
       "\n",
       "    .dataframe tbody tr th {\n",
       "        vertical-align: top;\n",
       "    }\n",
       "\n",
       "    .dataframe thead th {\n",
       "        text-align: right;\n",
       "    }\n",
       "</style>\n",
       "<table border=\"1\" class=\"dataframe\">\n",
       "  <thead>\n",
       "    <tr style=\"text-align: right;\">\n",
       "      <th></th>\n",
       "      <th>months</th>\n",
       "      <th>maximum</th>\n",
       "    </tr>\n",
       "  </thead>\n",
       "  <tbody>\n",
       "    <tr>\n",
       "      <th>0</th>\n",
       "      <td>1972-01</td>\n",
       "      <td>24.764516</td>\n",
       "    </tr>\n",
       "    <tr>\n",
       "      <th>1</th>\n",
       "      <td>1972-02</td>\n",
       "      <td>26.906897</td>\n",
       "    </tr>\n",
       "    <tr>\n",
       "      <th>2</th>\n",
       "      <td>1973-01</td>\n",
       "      <td>27.154839</td>\n",
       "    </tr>\n",
       "    <tr>\n",
       "      <th>3</th>\n",
       "      <td>1973-02</td>\n",
       "      <td>25.628571</td>\n",
       "    </tr>\n",
       "    <tr>\n",
       "      <th>4</th>\n",
       "      <td>1974-01</td>\n",
       "      <td>28.209677</td>\n",
       "    </tr>\n",
       "    <tr>\n",
       "      <th>...</th>\n",
       "      <td>...</td>\n",
       "      <td>...</td>\n",
       "    </tr>\n",
       "    <tr>\n",
       "      <th>95</th>\n",
       "      <td>2019-02</td>\n",
       "      <td>26.532143</td>\n",
       "    </tr>\n",
       "    <tr>\n",
       "      <th>96</th>\n",
       "      <td>2020-01</td>\n",
       "      <td>26.932258</td>\n",
       "    </tr>\n",
       "    <tr>\n",
       "      <th>97</th>\n",
       "      <td>2020-02</td>\n",
       "      <td>24.306897</td>\n",
       "    </tr>\n",
       "    <tr>\n",
       "      <th>98</th>\n",
       "      <td>2021-01</td>\n",
       "      <td>25.383871</td>\n",
       "    </tr>\n",
       "    <tr>\n",
       "      <th>99</th>\n",
       "      <td>2021-02</td>\n",
       "      <td>24.796429</td>\n",
       "    </tr>\n",
       "  </tbody>\n",
       "</table>\n",
       "<p>100 rows × 2 columns</p>\n",
       "</div>"
      ],
      "text/plain": [
       "     months    maximum\n",
       "0   1972-01  24.764516\n",
       "1   1972-02  26.906897\n",
       "2   1973-01  27.154839\n",
       "3   1973-02  25.628571\n",
       "4   1974-01  28.209677\n",
       "..      ...        ...\n",
       "95  2019-02  26.532143\n",
       "96  2020-01  26.932258\n",
       "97  2020-02  24.306897\n",
       "98  2021-01  25.383871\n",
       "99  2021-02  24.796429\n",
       "\n",
       "[100 rows x 2 columns]"
      ]
     },
     "execution_count": 233,
     "metadata": {},
     "output_type": "execute_result"
    }
   ],
   "source": [
    "# hm = hottest months\n",
    "hm = df[df['date'].dt.month.between(1, 2)].groupby(['months'])['maximum'].mean().reset_index()\n",
    "hm"
   ]
  },
  {
   "cell_type": "markdown",
   "metadata": {},
   "source": [
    "Can't predict on `str` or `datetime`, so use the ordinal, `period`:"
   ]
  },
  {
   "cell_type": "code",
   "execution_count": 249,
   "metadata": {},
   "outputs": [
    {
     "data": {
      "text/html": [
       "<div>\n",
       "<style scoped>\n",
       "    .dataframe tbody tr th:only-of-type {\n",
       "        vertical-align: middle;\n",
       "    }\n",
       "\n",
       "    .dataframe tbody tr th {\n",
       "        vertical-align: top;\n",
       "    }\n",
       "\n",
       "    .dataframe thead th {\n",
       "        text-align: right;\n",
       "    }\n",
       "</style>\n",
       "<table border=\"1\" class=\"dataframe\">\n",
       "  <thead>\n",
       "    <tr style=\"text-align: right;\">\n",
       "      <th></th>\n",
       "      <th>months</th>\n",
       "      <th>maximum</th>\n",
       "      <th>period</th>\n",
       "    </tr>\n",
       "  </thead>\n",
       "  <tbody>\n",
       "    <tr>\n",
       "      <th>0</th>\n",
       "      <td>1972-01</td>\n",
       "      <td>24.764516</td>\n",
       "      <td>719893</td>\n",
       "    </tr>\n",
       "    <tr>\n",
       "      <th>1</th>\n",
       "      <td>1972-02</td>\n",
       "      <td>26.906897</td>\n",
       "      <td>719924</td>\n",
       "    </tr>\n",
       "    <tr>\n",
       "      <th>2</th>\n",
       "      <td>1973-01</td>\n",
       "      <td>27.154839</td>\n",
       "      <td>720259</td>\n",
       "    </tr>\n",
       "    <tr>\n",
       "      <th>3</th>\n",
       "      <td>1973-02</td>\n",
       "      <td>25.628571</td>\n",
       "      <td>720290</td>\n",
       "    </tr>\n",
       "    <tr>\n",
       "      <th>4</th>\n",
       "      <td>1974-01</td>\n",
       "      <td>28.209677</td>\n",
       "      <td>720624</td>\n",
       "    </tr>\n",
       "    <tr>\n",
       "      <th>...</th>\n",
       "      <td>...</td>\n",
       "      <td>...</td>\n",
       "      <td>...</td>\n",
       "    </tr>\n",
       "    <tr>\n",
       "      <th>95</th>\n",
       "      <td>2019-02</td>\n",
       "      <td>26.532143</td>\n",
       "      <td>737091</td>\n",
       "    </tr>\n",
       "    <tr>\n",
       "      <th>96</th>\n",
       "      <td>2020-01</td>\n",
       "      <td>26.932258</td>\n",
       "      <td>737425</td>\n",
       "    </tr>\n",
       "    <tr>\n",
       "      <th>97</th>\n",
       "      <td>2020-02</td>\n",
       "      <td>24.306897</td>\n",
       "      <td>737456</td>\n",
       "    </tr>\n",
       "    <tr>\n",
       "      <th>98</th>\n",
       "      <td>2021-01</td>\n",
       "      <td>25.383871</td>\n",
       "      <td>737791</td>\n",
       "    </tr>\n",
       "    <tr>\n",
       "      <th>99</th>\n",
       "      <td>2021-02</td>\n",
       "      <td>24.796429</td>\n",
       "      <td>737822</td>\n",
       "    </tr>\n",
       "  </tbody>\n",
       "</table>\n",
       "<p>100 rows × 3 columns</p>\n",
       "</div>"
      ],
      "text/plain": [
       "     months    maximum  period\n",
       "0   1972-01  24.764516  719893\n",
       "1   1972-02  26.906897  719924\n",
       "2   1973-01  27.154839  720259\n",
       "3   1973-02  25.628571  720290\n",
       "4   1974-01  28.209677  720624\n",
       "..      ...        ...     ...\n",
       "95  2019-02  26.532143  737091\n",
       "96  2020-01  26.932258  737425\n",
       "97  2020-02  24.306897  737456\n",
       "98  2021-01  25.383871  737791\n",
       "99  2021-02  24.796429  737822\n",
       "\n",
       "[100 rows x 3 columns]"
      ]
     },
     "execution_count": 249,
     "metadata": {},
     "output_type": "execute_result"
    }
   ],
   "source": [
    "# dfp = data frame for prediction\n",
    "hm['period'] = pd.to_datetime(hm.months).map(dt.datetime.toordinal)\n",
    "hm"
   ]
  },
  {
   "cell_type": "markdown",
   "metadata": {},
   "source": [
    "Determine a least squares regression line:"
   ]
  },
  {
   "cell_type": "code",
   "execution_count": 250,
   "metadata": {},
   "outputs": [
    {
     "data": {
      "text/plain": [
       "array([ 4.56113712e-05, -7.26549542e+00])"
      ]
     },
     "execution_count": 250,
     "metadata": {},
     "output_type": "execute_result"
    }
   ],
   "source": [
    "# least squares polynomial fit (returns polynomial coefficients)\n",
    "pc = np.polyfit(x=hm['period'], y=hm['maximum'], deg=1)\n",
    "pc"
   ]
  },
  {
   "cell_type": "code",
   "execution_count": 251,
   "metadata": {},
   "outputs": [
    {
     "data": {
      "text/plain": [
       "poly1d([ 4.56113712e-05, -7.26549542e+00])"
      ]
     },
     "execution_count": 251,
     "metadata": {},
     "output_type": "execute_result"
    }
   ],
   "source": [
    "# convert to pandas 1-dimensional polynomial so we can fit to dataframe\n",
    "f = np.poly1d(pc)\n",
    "f"
   ]
  },
  {
   "cell_type": "code",
   "execution_count": 329,
   "metadata": {},
   "outputs": [
    {
     "data": {
      "text/plain": [
       "(array([  730.,   761.,  1096.,  1127.,  1461.,  1492.,  1826.,  1857.,\n",
       "         2191.,  2222.,  2557.,  2588.,  2922.,  2953.,  3287.,  3318.,\n",
       "         3652.,  3683.,  4018.,  4049.,  4383.,  4414.,  4748.,  4779.,\n",
       "         5113.,  5144.,  5479.,  5510.,  5844.,  5875.,  6209.,  6240.,\n",
       "         6574.,  6605.,  6940.,  6971.,  7305.,  7336.,  7670.,  7701.,\n",
       "         8035.,  8066.,  8401.,  8432.,  8766.,  8797.,  9131.,  9162.,\n",
       "         9496.,  9527.,  9862.,  9893., 10227., 10258., 10592., 10623.,\n",
       "        10957., 10988., 11323., 11354., 11688., 11719., 12053., 12084.,\n",
       "        12418., 12449., 12784., 12815., 13149., 13180., 13514., 13545.,\n",
       "        13879., 13910., 14245., 14276., 14610., 14641., 14975., 15006.,\n",
       "        15340., 15371., 15706., 15737., 16071., 16102., 16436., 16467.,\n",
       "        16801., 16832., 17167., 17198., 17532., 17563., 17897., 17928.,\n",
       "        18262., 18293., 18628., 18659.]),\n",
       " [datetime.datetime(1972, 1, 1, 0, 0, tzinfo=datetime.timezone.utc),\n",
       "  datetime.datetime(1972, 2, 1, 0, 0, tzinfo=datetime.timezone.utc),\n",
       "  datetime.datetime(1973, 1, 1, 0, 0, tzinfo=datetime.timezone.utc),\n",
       "  datetime.datetime(1973, 2, 1, 0, 0, tzinfo=datetime.timezone.utc),\n",
       "  datetime.datetime(1974, 1, 1, 0, 0, tzinfo=datetime.timezone.utc),\n",
       "  datetime.datetime(1974, 2, 1, 0, 0, tzinfo=datetime.timezone.utc),\n",
       "  datetime.datetime(1975, 1, 1, 0, 0, tzinfo=datetime.timezone.utc),\n",
       "  datetime.datetime(1975, 2, 1, 0, 0, tzinfo=datetime.timezone.utc),\n",
       "  datetime.datetime(1976, 1, 1, 0, 0, tzinfo=datetime.timezone.utc),\n",
       "  datetime.datetime(1976, 2, 1, 0, 0, tzinfo=datetime.timezone.utc),\n",
       "  datetime.datetime(1977, 1, 1, 0, 0, tzinfo=datetime.timezone.utc),\n",
       "  datetime.datetime(1977, 2, 1, 0, 0, tzinfo=datetime.timezone.utc),\n",
       "  datetime.datetime(1978, 1, 1, 0, 0, tzinfo=datetime.timezone.utc),\n",
       "  datetime.datetime(1978, 2, 1, 0, 0, tzinfo=datetime.timezone.utc),\n",
       "  datetime.datetime(1979, 1, 1, 0, 0, tzinfo=datetime.timezone.utc),\n",
       "  datetime.datetime(1979, 2, 1, 0, 0, tzinfo=datetime.timezone.utc),\n",
       "  datetime.datetime(1980, 1, 1, 0, 0, tzinfo=datetime.timezone.utc),\n",
       "  datetime.datetime(1980, 2, 1, 0, 0, tzinfo=datetime.timezone.utc),\n",
       "  datetime.datetime(1981, 1, 1, 0, 0, tzinfo=datetime.timezone.utc),\n",
       "  datetime.datetime(1981, 2, 1, 0, 0, tzinfo=datetime.timezone.utc),\n",
       "  datetime.datetime(1982, 1, 1, 0, 0, tzinfo=datetime.timezone.utc),\n",
       "  datetime.datetime(1982, 2, 1, 0, 0, tzinfo=datetime.timezone.utc),\n",
       "  datetime.datetime(1983, 1, 1, 0, 0, tzinfo=datetime.timezone.utc),\n",
       "  datetime.datetime(1983, 2, 1, 0, 0, tzinfo=datetime.timezone.utc),\n",
       "  datetime.datetime(1984, 1, 1, 0, 0, tzinfo=datetime.timezone.utc),\n",
       "  datetime.datetime(1984, 2, 1, 0, 0, tzinfo=datetime.timezone.utc),\n",
       "  datetime.datetime(1985, 1, 1, 0, 0, tzinfo=datetime.timezone.utc),\n",
       "  datetime.datetime(1985, 2, 1, 0, 0, tzinfo=datetime.timezone.utc),\n",
       "  datetime.datetime(1986, 1, 1, 0, 0, tzinfo=datetime.timezone.utc),\n",
       "  datetime.datetime(1986, 2, 1, 0, 0, tzinfo=datetime.timezone.utc),\n",
       "  datetime.datetime(1987, 1, 1, 0, 0, tzinfo=datetime.timezone.utc),\n",
       "  datetime.datetime(1987, 2, 1, 0, 0, tzinfo=datetime.timezone.utc),\n",
       "  datetime.datetime(1988, 1, 1, 0, 0, tzinfo=datetime.timezone.utc),\n",
       "  datetime.datetime(1988, 2, 1, 0, 0, tzinfo=datetime.timezone.utc),\n",
       "  datetime.datetime(1989, 1, 1, 0, 0, tzinfo=datetime.timezone.utc),\n",
       "  datetime.datetime(1989, 2, 1, 0, 0, tzinfo=datetime.timezone.utc),\n",
       "  datetime.datetime(1990, 1, 1, 0, 0, tzinfo=datetime.timezone.utc),\n",
       "  datetime.datetime(1990, 2, 1, 0, 0, tzinfo=datetime.timezone.utc),\n",
       "  datetime.datetime(1991, 1, 1, 0, 0, tzinfo=datetime.timezone.utc),\n",
       "  datetime.datetime(1991, 2, 1, 0, 0, tzinfo=datetime.timezone.utc),\n",
       "  datetime.datetime(1992, 1, 1, 0, 0, tzinfo=datetime.timezone.utc),\n",
       "  datetime.datetime(1992, 2, 1, 0, 0, tzinfo=datetime.timezone.utc),\n",
       "  datetime.datetime(1993, 1, 1, 0, 0, tzinfo=datetime.timezone.utc),\n",
       "  datetime.datetime(1993, 2, 1, 0, 0, tzinfo=datetime.timezone.utc),\n",
       "  datetime.datetime(1994, 1, 1, 0, 0, tzinfo=datetime.timezone.utc),\n",
       "  datetime.datetime(1994, 2, 1, 0, 0, tzinfo=datetime.timezone.utc),\n",
       "  datetime.datetime(1995, 1, 1, 0, 0, tzinfo=datetime.timezone.utc),\n",
       "  datetime.datetime(1995, 2, 1, 0, 0, tzinfo=datetime.timezone.utc),\n",
       "  datetime.datetime(1996, 1, 1, 0, 0, tzinfo=datetime.timezone.utc),\n",
       "  datetime.datetime(1996, 2, 1, 0, 0, tzinfo=datetime.timezone.utc),\n",
       "  datetime.datetime(1997, 1, 1, 0, 0, tzinfo=datetime.timezone.utc),\n",
       "  datetime.datetime(1997, 2, 1, 0, 0, tzinfo=datetime.timezone.utc),\n",
       "  datetime.datetime(1998, 1, 1, 0, 0, tzinfo=datetime.timezone.utc),\n",
       "  datetime.datetime(1998, 2, 1, 0, 0, tzinfo=datetime.timezone.utc),\n",
       "  datetime.datetime(1999, 1, 1, 0, 0, tzinfo=datetime.timezone.utc),\n",
       "  datetime.datetime(1999, 2, 1, 0, 0, tzinfo=datetime.timezone.utc),\n",
       "  datetime.datetime(2000, 1, 1, 0, 0, tzinfo=datetime.timezone.utc),\n",
       "  datetime.datetime(2000, 2, 1, 0, 0, tzinfo=datetime.timezone.utc),\n",
       "  datetime.datetime(2001, 1, 1, 0, 0, tzinfo=datetime.timezone.utc),\n",
       "  datetime.datetime(2001, 2, 1, 0, 0, tzinfo=datetime.timezone.utc),\n",
       "  datetime.datetime(2002, 1, 1, 0, 0, tzinfo=datetime.timezone.utc),\n",
       "  datetime.datetime(2002, 2, 1, 0, 0, tzinfo=datetime.timezone.utc),\n",
       "  datetime.datetime(2003, 1, 1, 0, 0, tzinfo=datetime.timezone.utc),\n",
       "  datetime.datetime(2003, 2, 1, 0, 0, tzinfo=datetime.timezone.utc),\n",
       "  datetime.datetime(2004, 1, 1, 0, 0, tzinfo=datetime.timezone.utc),\n",
       "  datetime.datetime(2004, 2, 1, 0, 0, tzinfo=datetime.timezone.utc),\n",
       "  datetime.datetime(2005, 1, 1, 0, 0, tzinfo=datetime.timezone.utc),\n",
       "  datetime.datetime(2005, 2, 1, 0, 0, tzinfo=datetime.timezone.utc),\n",
       "  datetime.datetime(2006, 1, 1, 0, 0, tzinfo=datetime.timezone.utc),\n",
       "  datetime.datetime(2006, 2, 1, 0, 0, tzinfo=datetime.timezone.utc),\n",
       "  datetime.datetime(2007, 1, 1, 0, 0, tzinfo=datetime.timezone.utc),\n",
       "  datetime.datetime(2007, 2, 1, 0, 0, tzinfo=datetime.timezone.utc),\n",
       "  datetime.datetime(2008, 1, 1, 0, 0, tzinfo=datetime.timezone.utc),\n",
       "  datetime.datetime(2008, 2, 1, 0, 0, tzinfo=datetime.timezone.utc),\n",
       "  datetime.datetime(2009, 1, 1, 0, 0, tzinfo=datetime.timezone.utc),\n",
       "  datetime.datetime(2009, 2, 1, 0, 0, tzinfo=datetime.timezone.utc),\n",
       "  datetime.datetime(2010, 1, 1, 0, 0, tzinfo=datetime.timezone.utc),\n",
       "  datetime.datetime(2010, 2, 1, 0, 0, tzinfo=datetime.timezone.utc),\n",
       "  datetime.datetime(2011, 1, 1, 0, 0, tzinfo=datetime.timezone.utc),\n",
       "  datetime.datetime(2011, 2, 1, 0, 0, tzinfo=datetime.timezone.utc),\n",
       "  datetime.datetime(2012, 1, 1, 0, 0, tzinfo=datetime.timezone.utc),\n",
       "  datetime.datetime(2012, 2, 1, 0, 0, tzinfo=datetime.timezone.utc),\n",
       "  datetime.datetime(2013, 1, 1, 0, 0, tzinfo=datetime.timezone.utc),\n",
       "  datetime.datetime(2013, 2, 1, 0, 0, tzinfo=datetime.timezone.utc),\n",
       "  datetime.datetime(2014, 1, 1, 0, 0, tzinfo=datetime.timezone.utc),\n",
       "  datetime.datetime(2014, 2, 1, 0, 0, tzinfo=datetime.timezone.utc),\n",
       "  datetime.datetime(2015, 1, 1, 0, 0, tzinfo=datetime.timezone.utc),\n",
       "  datetime.datetime(2015, 2, 1, 0, 0, tzinfo=datetime.timezone.utc),\n",
       "  datetime.datetime(2016, 1, 1, 0, 0, tzinfo=datetime.timezone.utc),\n",
       "  datetime.datetime(2016, 2, 1, 0, 0, tzinfo=datetime.timezone.utc),\n",
       "  datetime.datetime(2017, 1, 1, 0, 0, tzinfo=datetime.timezone.utc),\n",
       "  datetime.datetime(2017, 2, 1, 0, 0, tzinfo=datetime.timezone.utc),\n",
       "  datetime.datetime(2018, 1, 1, 0, 0, tzinfo=datetime.timezone.utc),\n",
       "  datetime.datetime(2018, 2, 1, 0, 0, tzinfo=datetime.timezone.utc),\n",
       "  datetime.datetime(2019, 1, 1, 0, 0, tzinfo=datetime.timezone.utc),\n",
       "  datetime.datetime(2019, 2, 1, 0, 0, tzinfo=datetime.timezone.utc),\n",
       "  datetime.datetime(2020, 1, 1, 0, 0, tzinfo=datetime.timezone.utc),\n",
       "  datetime.datetime(2020, 2, 1, 0, 0, tzinfo=datetime.timezone.utc),\n",
       "  datetime.datetime(2021, 1, 1, 0, 0, tzinfo=datetime.timezone.utc),\n",
       "  datetime.datetime(2021, 2, 1, 0, 0, tzinfo=datetime.timezone.utc)])"
      ]
     },
     "execution_count": 329,
     "metadata": {},
     "output_type": "execute_result"
    }
   ],
   "source": [
    "ord_to_str_fmt = lambda x: x.map(dt.datetime.fromordinal)\n",
    "# .dt.strftime('%Y-%m')\n",
    "# hm.period.map(dt.datetime.fromordinal).dt.strftime('%Y-%m')\n",
    "# periods = hm.months.map(str)    # x axis labels as string dates\n",
    "nums = dates.date2num(hm.months)\n",
    "nums , dates.num2date(nums)\n"
   ]
  },
  {
   "cell_type": "markdown",
   "metadata": {},
   "source": [
    "Plot with regression"
   ]
  },
  {
   "cell_type": "code",
   "execution_count": 312,
   "metadata": {},
   "outputs": [
    {
     "ename": "AttributeError",
     "evalue": "module 'matplotlib.pyplot' has no attribute 'dates'",
     "output_type": "error",
     "traceback": [
      "\u001b[0;31m---------------------------------------------------------------------------\u001b[0m",
      "\u001b[0;31mAttributeError\u001b[0m                            Traceback (most recent call last)",
      "\u001b[0;32m<ipython-input-312-3b16c70f8c09>\u001b[0m in \u001b[0;36m<module>\u001b[0;34m\u001b[0m\n\u001b[1;32m      4\u001b[0m \u001b[0mplt\u001b[0m\u001b[0;34m.\u001b[0m\u001b[0mtitle\u001b[0m\u001b[0;34m(\u001b[0m\u001b[0;34m'Cheltenahm Maximum Temperatures (Jan, Feb)'\u001b[0m\u001b[0;34m)\u001b[0m\u001b[0;34m\u001b[0m\u001b[0;34m\u001b[0m\u001b[0m\n\u001b[1;32m      5\u001b[0m \u001b[0mplt\u001b[0m\u001b[0;34m.\u001b[0m\u001b[0mxlabel\u001b[0m\u001b[0;34m(\u001b[0m\u001b[0;34m'Period'\u001b[0m\u001b[0;34m)\u001b[0m\u001b[0;34m\u001b[0m\u001b[0;34m\u001b[0m\u001b[0m\n\u001b[0;32m----> 6\u001b[0;31m \u001b[0max\u001b[0m\u001b[0;34m.\u001b[0m\u001b[0mxaxis\u001b[0m\u001b[0;34m.\u001b[0m\u001b[0mset_major_formatter\u001b[0m\u001b[0;34m(\u001b[0m\u001b[0mplt\u001b[0m\u001b[0;34m.\u001b[0m\u001b[0mdates\u001b[0m\u001b[0;34m.\u001b[0m\u001b[0mDateFormatter\u001b[0m\u001b[0;34m(\u001b[0m\u001b[0;34m'%Y-%m'\u001b[0m\u001b[0;34m)\u001b[0m\u001b[0;34m)\u001b[0m\u001b[0;34m\u001b[0m\u001b[0;34m\u001b[0m\u001b[0m\n\u001b[0m\u001b[1;32m      7\u001b[0m \u001b[0mplt\u001b[0m\u001b[0;34m.\u001b[0m\u001b[0mylabel\u001b[0m\u001b[0;34m(\u001b[0m\u001b[0;34m'Maximum Temperature °C'\u001b[0m\u001b[0;34m)\u001b[0m\u001b[0;34m\u001b[0m\u001b[0;34m\u001b[0m\u001b[0m\n\u001b[1;32m      8\u001b[0m \u001b[0mplt\u001b[0m\u001b[0;34m.\u001b[0m\u001b[0mlegend\u001b[0m\u001b[0;34m(\u001b[0m\u001b[0;34m)\u001b[0m\u001b[0;34m\u001b[0m\u001b[0;34m\u001b[0m\u001b[0m\n",
      "\u001b[0;31mAttributeError\u001b[0m: module 'matplotlib.pyplot' has no attribute 'dates'"
     ]
    },
    {
     "data": {
      "image/png": "[encoded data removed]",
      "text/plain": [
       "<Figure size 432x288 with 1 Axes>"
      ]
     },
     "metadata": {
      "needs_background": "light"
     },
     "output_type": "display_data"
    }
   ],
   "source": [
    "ax = plt.gca() # get current axes\n",
    "hm.plot(kind='scatter', x='period', y='maximum', label='Maximum', ax=ax)\n",
    "hm.plot('period', 'prediction', color='red', label='Temperature Trend', ax=ax)\n",
    "plt.title('Cheltenahm Maximum Temperatures (Jan, Feb)')\n",
    "plt.xlabel('Period')\n",
    "ax.xaxis.set_major_formatter(plt.dates.DateFormatter('%Y-%m'))\n",
    "plt.ylabel('Maximum Temperature °C')\n",
    "plt.legend()\n",
    "plt.show()"
   ]
  }
 ],
 "metadata": {
  "interpreter": {
   "hash": "31f2aee4e71d21fbe5cf8b01ff0e069b9275f58929596ceb00d14d90e3e16cd6"
  },
  "kernelspec": {
   "display_name": "Python 3.9.7 64-bit",
   "name": "python3"
  },
  "language_info": {
   "codemirror_mode": {
    "name": "ipython",
    "version": 3
   },
   "file_extension": ".py",
   "mimetype": "text/x-python",
   "name": "python",
   "nbconvert_exporter": "python",
   "pygments_lexer": "ipython3",
   "version": "3.9.7"
  },
  "orig_nbformat": 4
 },
 "nbformat": 4,
 "nbformat_minor": 2
}
