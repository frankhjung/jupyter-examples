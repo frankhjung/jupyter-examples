{
  "cells": [
    {
      "cell_type": "markdown",
      "metadata": {
        "id": "Ps4Hqvn2U0e9"
      },
      "source": [
        "# Example: Linear regression using sklearn.\n",
        "\n",
        "In this example we are going to create a linear regression model for maximum and minimum July tempertures in London.\n",
        "\n",
        "We are going to use this CSV data, [London weather by Alan Jones](https://raw.githubusercontent.com/alanjones2/dataviz/master/londonweather.csv).\n",
        "\n",
        "## Dependencies\n",
        "\n",
        "The model for linear regression comes from [sklearn](https://scikit-learn.org/stable/modules/generated/sklearn.linear_model.LinearRegression.html).\n",
        "\n",
        "The other libraries used are:"
      ]
    },
    {
      "cell_type": "code",
      "execution_count": 25,
      "metadata": {
        "id": "I6rBLsuBUxOe"
      },
      "outputs": [],
      "source": [
        "import matplotlib.pyplot as plt     # visualization\n",
        "import numpy as np                  # manipulate data frames\n",
        "import pandas as pd                 # load csv data\n",
        "from sklearn.linear_model import LinearRegression"
      ]
    },
    {
      "cell_type": "markdown",
      "metadata": {
        "id": "6EemoHhBV6uD"
      },
      "source": [
        "## Prepare Data Frame\n",
        "\n",
        "* load data from CSV\n",
        "* prepare arrays"
      ]
    },
    {
      "cell_type": "code",
      "execution_count": 26,
      "metadata": {
        "colab": {
          "base_uri": "https://localhost:8080/",
          "height": 419
        },
        "id": "LPNCKxyfWQ4b",
        "outputId": "24b641c0-8fd3-42af-c61a-7b3cefa1c758"
      },
      "outputs": [
        {
          "data": {
            "text/html": [
              "<div>\n",
              "<style scoped>\n",
              "    .dataframe tbody tr th:only-of-type {\n",
              "        vertical-align: middle;\n",
              "    }\n",
              "\n",
              "    .dataframe tbody tr th {\n",
              "        vertical-align: top;\n",
              "    }\n",
              "\n",
              "    .dataframe thead th {\n",
              "        text-align: right;\n",
              "    }\n",
              "</style>\n",
              "<table border=\"1\" class=\"dataframe\">\n",
              "  <thead>\n",
              "    <tr style=\"text-align: right;\">\n",
              "      <th></th>\n",
              "      <th>Year</th>\n",
              "      <th>Month</th>\n",
              "      <th>Tmax</th>\n",
              "      <th>Tmin</th>\n",
              "      <th>Rain</th>\n",
              "      <th>Sun</th>\n",
              "    </tr>\n",
              "  </thead>\n",
              "  <tbody>\n",
              "    <tr>\n",
              "      <th>0</th>\n",
              "      <td>1957</td>\n",
              "      <td>1</td>\n",
              "      <td>8.7</td>\n",
              "      <td>2.7</td>\n",
              "      <td>39.5</td>\n",
              "      <td>53.0</td>\n",
              "    </tr>\n",
              "    <tr>\n",
              "      <th>1</th>\n",
              "      <td>1957</td>\n",
              "      <td>2</td>\n",
              "      <td>9.0</td>\n",
              "      <td>2.9</td>\n",
              "      <td>69.8</td>\n",
              "      <td>64.9</td>\n",
              "    </tr>\n",
              "    <tr>\n",
              "      <th>2</th>\n",
              "      <td>1957</td>\n",
              "      <td>3</td>\n",
              "      <td>13.9</td>\n",
              "      <td>5.7</td>\n",
              "      <td>25.4</td>\n",
              "      <td>96.7</td>\n",
              "    </tr>\n",
              "    <tr>\n",
              "      <th>3</th>\n",
              "      <td>1957</td>\n",
              "      <td>4</td>\n",
              "      <td>14.2</td>\n",
              "      <td>5.2</td>\n",
              "      <td>5.7</td>\n",
              "      <td>169.6</td>\n",
              "    </tr>\n",
              "    <tr>\n",
              "      <th>4</th>\n",
              "      <td>1957</td>\n",
              "      <td>5</td>\n",
              "      <td>16.2</td>\n",
              "      <td>6.5</td>\n",
              "      <td>21.3</td>\n",
              "      <td>195.0</td>\n",
              "    </tr>\n",
              "    <tr>\n",
              "      <th>...</th>\n",
              "      <td>...</td>\n",
              "      <td>...</td>\n",
              "      <td>...</td>\n",
              "      <td>...</td>\n",
              "      <td>...</td>\n",
              "      <td>...</td>\n",
              "    </tr>\n",
              "    <tr>\n",
              "      <th>743</th>\n",
              "      <td>2018</td>\n",
              "      <td>12</td>\n",
              "      <td>10.7</td>\n",
              "      <td>5.2</td>\n",
              "      <td>60.6</td>\n",
              "      <td>40.3</td>\n",
              "    </tr>\n",
              "    <tr>\n",
              "      <th>744</th>\n",
              "      <td>2019</td>\n",
              "      <td>1</td>\n",
              "      <td>7.6</td>\n",
              "      <td>2.0</td>\n",
              "      <td>33.2</td>\n",
              "      <td>56.4</td>\n",
              "    </tr>\n",
              "    <tr>\n",
              "      <th>745</th>\n",
              "      <td>2019</td>\n",
              "      <td>2</td>\n",
              "      <td>12.4</td>\n",
              "      <td>3.3</td>\n",
              "      <td>34.2</td>\n",
              "      <td>120.2</td>\n",
              "    </tr>\n",
              "    <tr>\n",
              "      <th>746</th>\n",
              "      <td>2019</td>\n",
              "      <td>3</td>\n",
              "      <td>13.1</td>\n",
              "      <td>5.8</td>\n",
              "      <td>49.6</td>\n",
              "      <td>119.0</td>\n",
              "    </tr>\n",
              "    <tr>\n",
              "      <th>747</th>\n",
              "      <td>2019</td>\n",
              "      <td>4</td>\n",
              "      <td>15.8</td>\n",
              "      <td>5.7</td>\n",
              "      <td>12.8</td>\n",
              "      <td>170.1</td>\n",
              "    </tr>\n",
              "  </tbody>\n",
              "</table>\n",
              "<p>748 rows × 6 columns</p>\n",
              "</div>"
            ],
            "text/plain": [
              "     Year  Month  Tmax  Tmin  Rain    Sun\n",
              "0    1957      1   8.7   2.7  39.5   53.0\n",
              "1    1957      2   9.0   2.9  69.8   64.9\n",
              "2    1957      3  13.9   5.7  25.4   96.7\n",
              "3    1957      4  14.2   5.2   5.7  169.6\n",
              "4    1957      5  16.2   6.5  21.3  195.0\n",
              "..    ...    ...   ...   ...   ...    ...\n",
              "743  2018     12  10.7   5.2  60.6   40.3\n",
              "744  2019      1   7.6   2.0  33.2   56.4\n",
              "745  2019      2  12.4   3.3  34.2  120.2\n",
              "746  2019      3  13.1   5.8  49.6  119.0\n",
              "747  2019      4  15.8   5.7  12.8  170.1\n",
              "\n",
              "[748 rows x 6 columns]"
            ]
          },
          "execution_count": 26,
          "metadata": {},
          "output_type": "execute_result"
        }
      ],
      "source": [
        "data = pd.read_csv('https://raw.githubusercontent.com/alanjones2/dataviz/master/londonweather.csv')\n",
        "data"
      ]
    },
    {
      "cell_type": "markdown",
      "metadata": {
        "id": "pyrZ7CmwWq_t"
      },
      "source": [
        "## Maximum Temperatures\n",
        "\n",
        "For this analysis use maximum temperatures for July (this is typically the hottest month in London with an average temperature around 19°C)."
      ]
    },
    {
      "cell_type": "code",
      "execution_count": 27,
      "metadata": {
        "colab": {
          "base_uri": "https://localhost:8080/",
          "height": 419
        },
        "id": "J-m6i7enW2MD",
        "outputId": "5ccd4c2b-d099-4a62-b745-45e1ceabb161"
      },
      "outputs": [
        {
          "data": {
            "text/html": [
              "<div>\n",
              "<style scoped>\n",
              "    .dataframe tbody tr th:only-of-type {\n",
              "        vertical-align: middle;\n",
              "    }\n",
              "\n",
              "    .dataframe tbody tr th {\n",
              "        vertical-align: top;\n",
              "    }\n",
              "\n",
              "    .dataframe thead th {\n",
              "        text-align: right;\n",
              "    }\n",
              "</style>\n",
              "<table border=\"1\" class=\"dataframe\">\n",
              "  <thead>\n",
              "    <tr style=\"text-align: right;\">\n",
              "      <th></th>\n",
              "      <th>Year</th>\n",
              "      <th>Tmax</th>\n",
              "      <th>Tmin</th>\n",
              "    </tr>\n",
              "  </thead>\n",
              "  <tbody>\n",
              "    <tr>\n",
              "      <th>6</th>\n",
              "      <td>1957</td>\n",
              "      <td>22.5</td>\n",
              "      <td>13.8</td>\n",
              "    </tr>\n",
              "    <tr>\n",
              "      <th>18</th>\n",
              "      <td>1958</td>\n",
              "      <td>21.7</td>\n",
              "      <td>12.9</td>\n",
              "    </tr>\n",
              "    <tr>\n",
              "      <th>30</th>\n",
              "      <td>1959</td>\n",
              "      <td>24.7</td>\n",
              "      <td>13.3</td>\n",
              "    </tr>\n",
              "    <tr>\n",
              "      <th>42</th>\n",
              "      <td>1960</td>\n",
              "      <td>20.1</td>\n",
              "      <td>12.4</td>\n",
              "    </tr>\n",
              "    <tr>\n",
              "      <th>54</th>\n",
              "      <td>1961</td>\n",
              "      <td>22.1</td>\n",
              "      <td>12.1</td>\n",
              "    </tr>\n",
              "    <tr>\n",
              "      <th>...</th>\n",
              "      <td>...</td>\n",
              "      <td>...</td>\n",
              "      <td>...</td>\n",
              "    </tr>\n",
              "    <tr>\n",
              "      <th>690</th>\n",
              "      <td>2014</td>\n",
              "      <td>25.8</td>\n",
              "      <td>15.0</td>\n",
              "    </tr>\n",
              "    <tr>\n",
              "      <th>702</th>\n",
              "      <td>2015</td>\n",
              "      <td>23.7</td>\n",
              "      <td>13.8</td>\n",
              "    </tr>\n",
              "    <tr>\n",
              "      <th>714</th>\n",
              "      <td>2016</td>\n",
              "      <td>24.0</td>\n",
              "      <td>14.5</td>\n",
              "    </tr>\n",
              "    <tr>\n",
              "      <th>726</th>\n",
              "      <td>2017</td>\n",
              "      <td>23.8</td>\n",
              "      <td>14.9</td>\n",
              "    </tr>\n",
              "    <tr>\n",
              "      <th>738</th>\n",
              "      <td>2018</td>\n",
              "      <td>28.3</td>\n",
              "      <td>16.4</td>\n",
              "    </tr>\n",
              "  </tbody>\n",
              "</table>\n",
              "<p>62 rows × 3 columns</p>\n",
              "</div>"
            ],
            "text/plain": [
              "     Year  Tmax  Tmin\n",
              "6    1957  22.5  13.8\n",
              "18   1958  21.7  12.9\n",
              "30   1959  24.7  13.3\n",
              "42   1960  20.1  12.4\n",
              "54   1961  22.1  12.1\n",
              "..    ...   ...   ...\n",
              "690  2014  25.8  15.0\n",
              "702  2015  23.7  13.8\n",
              "714  2016  24.0  14.5\n",
              "726  2017  23.8  14.9\n",
              "738  2018  28.3  16.4\n",
              "\n",
              "[62 rows x 3 columns]"
            ]
          },
          "execution_count": 27,
          "metadata": {},
          "output_type": "execute_result"
        }
      ],
      "source": [
        "# subselect year and maximum & minimum temperatures for July only\n",
        "july = data.query('Month == 7').loc[:,['Year', 'Tmax', 'Tmin']]\n",
        "july"
      ]
    },
    {
      "cell_type": "markdown",
      "metadata": {
        "id": "6cMRbPHCvl56"
      },
      "source": [
        "Use the year (`Year`) as the predictor (this will be the `X`-axis), and the maximum temperature (`Tmax`) as the predicted value."
      ]
    },
    {
      "cell_type": "code",
      "execution_count": 28,
      "metadata": {
        "id": "6G6a8FWbtOk-"
      },
      "outputs": [],
      "source": [
        "# predict for maximum temperatures\n",
        "X = july.iloc[:, 0].values.reshape(-1, 1)   # (years) convert into a numpy array\n",
        "Y = july.iloc[:, 1].values.reshape(-1, 1)   # (max temp) -1 means that calculate the dimension of rows, but have 1 column\n",
        "model_max = LinearRegression()              # create instance of class\n",
        "model_max.fit(X, Y)                         # perform linear regression\n",
        "Y_pred = model_max.predict(X)               # make predictions given on temperatures given years"
      ]
    },
    {
      "cell_type": "code",
      "execution_count": 29,
      "metadata": {},
      "outputs": [
        {
          "data": {
            "text/plain": [
              "numpy.ndarray"
            ]
          },
          "execution_count": 29,
          "metadata": {},
          "output_type": "execute_result"
        }
      ],
      "source": [
        "type(X)"
      ]
    },
    {
      "cell_type": "markdown",
      "metadata": {
        "id": "sf-_EG3RxYsz"
      },
      "source": [
        "Regression coefficients for maximum temperature predictions:"
      ]
    },
    {
      "cell_type": "code",
      "execution_count": 30,
      "metadata": {
        "colab": {
          "base_uri": "https://localhost:8080/"
        },
        "id": "odcRZ8d3xcU5",
        "outputId": "031ad1c5-2e4e-4e19-a947-83ef04099882"
      },
      "outputs": [
        {
          "data": {
            "text/plain": [
              "(array([-72.49635114]), array([[0.04808743]]))"
            ]
          },
          "execution_count": 30,
          "metadata": {},
          "output_type": "execute_result"
        }
      ],
      "source": [
        "model_max.intercept_, model_max.coef_"
      ]
    },
    {
      "cell_type": "markdown",
      "metadata": {
        "id": "aFqOYlk8xFZf"
      },
      "source": [
        "Use regression to show a line plot with predicted maximum temperatures:"
      ]
    },
    {
      "cell_type": "code",
      "execution_count": 31,
      "metadata": {
        "colab": {
          "base_uri": "https://localhost:8080/",
          "height": 295
        },
        "id": "09pzZ1WSuqaL",
        "outputId": "21d6ea34-8585-45f3-9c2a-1097dabbf69d"
      },
      "outputs": [
        {
          "data": {
            "image/png": "[encoded data removed]",
            "text/plain": [
              "<Figure size 432x288 with 1 Axes>"
            ]
          },
          "metadata": {
            "needs_background": "light"
          },
          "output_type": "display_data"
        }
      ],
      "source": [
        "plt.scatter(X, Y, label='July Maximum')\n",
        "plt.plot(X, Y_pred, label='Trend', color='red')\n",
        "plt.title('London Maximum Temperatures for July by Year')\n",
        "plt.xlabel('Year')\n",
        "plt.ylabel('Maximum Temperature °C')\n",
        "plt.legend()\n",
        "plt.show()"
      ]
    },
    {
      "cell_type": "markdown",
      "metadata": {},
      "source": [
        "### Temperatures beyond 2020?\n",
        "What are the expected temperatures beyond 2020?"
      ]
    },
    {
      "cell_type": "code",
      "execution_count": 32,
      "metadata": {},
      "outputs": [],
      "source": [
        "# extend years to 2040\n",
        "XF = np.append(X, np.arange(2020, 2040)).reshape(-1, 1)\n"
      ]
    },
    {
      "cell_type": "markdown",
      "metadata": {},
      "source": [
        "Fill the future years with None (NaN) so the temperature plot looks clean:"
      ]
    },
    {
      "cell_type": "code",
      "execution_count": 33,
      "metadata": {},
      "outputs": [],
      "source": [
        "# extend temperatures to 2040\n",
        "\n",
        "# fill with NaN\n",
        "YF = np.append(Y, np.full(20, None)).reshape(-1, 1)\n",
        "\n",
        "# or can fill with average temperature\n",
        "# YF = np.append(Y, np.full(20, fill_value=Y.mean())).reshape(-1, 1)"
      ]
    },
    {
      "cell_type": "markdown",
      "metadata": {},
      "source": [
        "Update temperature (`Y`) predictions:"
      ]
    },
    {
      "cell_type": "code",
      "execution_count": 34,
      "metadata": {},
      "outputs": [],
      "source": [
        "Y_pred = model_max.predict(XF)"
      ]
    },
    {
      "cell_type": "markdown",
      "metadata": {},
      "source": [
        "Plot predictions:"
      ]
    },
    {
      "cell_type": "code",
      "execution_count": 39,
      "metadata": {},
      "outputs": [
        {
          "data": {
            "image/png": "[encoded data removed]",
            "text/plain": [
              "<Figure size 432x288 with 1 Axes>"
            ]
          },
          "metadata": {
            "needs_background": "light"
          },
          "output_type": "display_data"
        }
      ],
      "source": [
        "plt.scatter(XF, YF, label='July Maximum')\n",
        "plt.plot(XF, Y_pred, color='red', label='Trend')\n",
        "plt.title('London Expected Maximum Temperatures for July by Year')\n",
        "plt.xlabel('Year')\n",
        "plt.ylabel('Maximum Temperature °C')\n",
        "plt.legend(loc='lower right')\n",
        "plt.show()\n"
      ]
    },
    {
      "cell_type": "markdown",
      "metadata": {
        "id": "YI-OMt8z1sl4"
      },
      "source": [
        "## Minimum Temperatures\n",
        "\n",
        "Use regression to show a line plot with predicted minimum temperatures:"
      ]
    },
    {
      "cell_type": "markdown",
      "metadata": {
        "id": "DuQkJJMr1YBj"
      },
      "source": [
        "Use the year (`Year`) as the predictor (this will be the `X`-axis), and the minimum temperature (`Tmin`) as the predicted value."
      ]
    },
    {
      "cell_type": "code",
      "execution_count": 36,
      "metadata": {
        "id": "WS-jNBxf1Kpx"
      },
      "outputs": [],
      "source": [
        "# predict for minimum temperatures\n",
        "Z = july.iloc[:, 2].values.reshape(-1, 1)   # min temp\n",
        "model_min = LinearRegression()              # create instance of class\n",
        "model_min.fit(X, Z)                         # perform linear regression\n",
        "Z_pred = model_min.predict(X)               # make predictions given on temperatures given years"
      ]
    },
    {
      "cell_type": "markdown",
      "metadata": {
        "id": "NZvVI-DV2ZNZ"
      },
      "source": [
        "Regression coefficients for maximum temperature predictions:"
      ]
    },
    {
      "cell_type": "code",
      "execution_count": 37,
      "metadata": {
        "colab": {
          "base_uri": "https://localhost:8080/"
        },
        "id": "DlvY6Y6T2cM7",
        "outputId": "fa4e5ba8-2d16-4394-de83-1cbc2e4ac6e7"
      },
      "outputs": [
        {
          "data": {
            "text/plain": [
              "(array([-52.81433104]), array([[0.03340384]]))"
            ]
          },
          "execution_count": 37,
          "metadata": {},
          "output_type": "execute_result"
        }
      ],
      "source": [
        "model_min.intercept_, model_min.coef_"
      ]
    },
    {
      "cell_type": "markdown",
      "metadata": {
        "id": "5WZoTkz-2pdl"
      },
      "source": [
        "Use regression to show a line plot with predicted minimum temperatures:"
      ]
    },
    {
      "cell_type": "code",
      "execution_count": 38,
      "metadata": {
        "colab": {
          "base_uri": "https://localhost:8080/",
          "height": 295
        },
        "id": "GArGI95i2Tkn",
        "outputId": "896a31cc-1635-4437-99e4-c77d00b3e4a6"
      },
      "outputs": [
        {
          "data": {
            "image/png": "[encoded data removed]",
            "text/plain": [
              "<Figure size 432x288 with 1 Axes>"
            ]
          },
          "metadata": {
            "needs_background": "light"
          },
          "output_type": "display_data"
        }
      ],
      "source": [
        "plt.scatter(X, Z, label='July Minimum')\n",
        "plt.plot(X, Z_pred, color='red', label='Trend')\n",
        "plt.title('London Minimum Temperatures for July by Year')\n",
        "plt.xlabel('Year')\n",
        "plt.ylabel('Minimum Temperature °C')\n",
        "plt.legend()\n",
        "plt.show()"
      ]
    }
  ],
  "metadata": {
    "colab": {
      "collapsed_sections": [],
      "name": "linear-regression-sklearn.ipynb",
      "provenance": []
    },
    "interpreter": {
      "hash": "31f2aee4e71d21fbe5cf8b01ff0e069b9275f58929596ceb00d14d90e3e16cd6"
    },
    "kernelspec": {
      "display_name": "Python 3.9.7 64-bit",
      "name": "python3"
    },
    "language_info": {
      "codemirror_mode": {
        "name": "ipython",
        "version": 3
      },
      "file_extension": ".py",
      "mimetype": "text/x-python",
      "name": "python",
      "nbconvert_exporter": "python",
      "pygments_lexer": "ipython3",
      "version": "3.9.7"
    }
  },
  "nbformat": 4,
  "nbformat_minor": 0
}
