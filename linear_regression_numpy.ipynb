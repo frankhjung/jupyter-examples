{
  "cells": [
    {
      "cell_type": "markdown",
      "metadata": {
        "id": "NkFaZ5t25iHm"
      },
      "source": [
        "\n",
        "# Example: Linear Regression using NumPy"
      ]
    },
    {
      "cell_type": "markdown",
      "metadata": {
        "id": "LKSS3Toh5iHq"
      },
      "source": [
        "This is example of applying linear regression for a column in a data frame. Here we are using London weather data from 1956 to 2019 to estimate if the weather in July is increasing. (July is usually the hottest month.)\n",
        "\n",
        "Source: [Regression Plots with Pandas and Numpy](https://towardsdatascience.com/regression-plots-with-pandas-and-numpy-faf2edbfad4f)\n",
        "\n",
        "---\n",
        "\n"
      ]
    },
    {
      "cell_type": "markdown",
      "metadata": {
        "id": "5GdpHlAi5zHF"
      },
      "source": [
        "## Dependencies"
      ]
    },
    {
      "cell_type": "code",
      "execution_count": 1,
      "metadata": {
        "id": "6PmrQxKV5iHs"
      },
      "outputs": [],
      "source": [
        "%matplotlib inline\n",
        "import numpy as np\n",
        "import pandas as pd\n",
        "import matplotlib.pyplot as plt"
      ]
    },
    {
      "cell_type": "markdown",
      "metadata": {
        "id": "In3_hXib5iHv"
      },
      "source": [
        "\n",
        "---\n",
        "Plot regression training data along with linear fit."
      ]
    },
    {
      "cell_type": "markdown",
      "metadata": {
        "id": "7b6oWUSx53FY"
      },
      "source": [
        "## Get Source Data"
      ]
    },
    {
      "cell_type": "code",
      "execution_count": 2,
      "metadata": {
        "colab": {
          "base_uri": "https://localhost:8080/",
          "height": 419
        },
        "id": "ay55o6yq5iHv",
        "outputId": "bc1c5c0a-22db-4ca0-e489-2bdb6fdce649"
      },
      "outputs": [
        {
          "data": {
            "text/html": [
              "<div>\n",
              "<style scoped>\n",
              "    .dataframe tbody tr th:only-of-type {\n",
              "        vertical-align: middle;\n",
              "    }\n",
              "\n",
              "    .dataframe tbody tr th {\n",
              "        vertical-align: top;\n",
              "    }\n",
              "\n",
              "    .dataframe thead th {\n",
              "        text-align: right;\n",
              "    }\n",
              "</style>\n",
              "<table border=\"1\" class=\"dataframe\">\n",
              "  <thead>\n",
              "    <tr style=\"text-align: right;\">\n",
              "      <th></th>\n",
              "      <th>Year</th>\n",
              "      <th>Month</th>\n",
              "      <th>Tmax</th>\n",
              "      <th>Tmin</th>\n",
              "      <th>Rain</th>\n",
              "      <th>Sun</th>\n",
              "    </tr>\n",
              "  </thead>\n",
              "  <tbody>\n",
              "    <tr>\n",
              "      <th>6</th>\n",
              "      <td>1957</td>\n",
              "      <td>7</td>\n",
              "      <td>22.5</td>\n",
              "      <td>13.8</td>\n",
              "      <td>87.0</td>\n",
              "      <td>152.3</td>\n",
              "    </tr>\n",
              "    <tr>\n",
              "      <th>18</th>\n",
              "      <td>1958</td>\n",
              "      <td>7</td>\n",
              "      <td>21.7</td>\n",
              "      <td>12.9</td>\n",
              "      <td>51.9</td>\n",
              "      <td>190.5</td>\n",
              "    </tr>\n",
              "    <tr>\n",
              "      <th>30</th>\n",
              "      <td>1959</td>\n",
              "      <td>7</td>\n",
              "      <td>24.7</td>\n",
              "      <td>13.3</td>\n",
              "      <td>86.5</td>\n",
              "      <td>276.9</td>\n",
              "    </tr>\n",
              "    <tr>\n",
              "      <th>42</th>\n",
              "      <td>1960</td>\n",
              "      <td>7</td>\n",
              "      <td>20.1</td>\n",
              "      <td>12.4</td>\n",
              "      <td>67.2</td>\n",
              "      <td>139.7</td>\n",
              "    </tr>\n",
              "    <tr>\n",
              "      <th>54</th>\n",
              "      <td>1961</td>\n",
              "      <td>7</td>\n",
              "      <td>22.1</td>\n",
              "      <td>12.1</td>\n",
              "      <td>26.2</td>\n",
              "      <td>180.0</td>\n",
              "    </tr>\n",
              "  </tbody>\n",
              "</table>\n",
              "</div>"
            ],
            "text/plain": [
              "    Year  Month  Tmax  Tmin  Rain    Sun\n",
              "6   1957      7  22.5  13.8  87.0  152.3\n",
              "18  1958      7  21.7  12.9  51.9  190.5\n",
              "30  1959      7  24.7  13.3  86.5  276.9\n",
              "42  1960      7  20.1  12.4  67.2  139.7\n",
              "54  1961      7  22.1  12.1  26.2  180.0"
            ]
          },
          "execution_count": 2,
          "metadata": {},
          "output_type": "execute_result"
        }
      ],
      "source": [
        "# grab london weather data\n",
        "weather = pd.read_csv('https://raw.githubusercontent.com/alanjones2/dataviz/master/londonweather.csv')\n",
        "weather[weather.Month == 7].head()"
      ]
    },
    {
      "cell_type": "markdown",
      "metadata": {
        "id": "1-7BR8XK5-C8"
      },
      "source": [
        "Get a subset of the data, namely just the month of July, as this is typically the hottest month for London."
      ]
    },
    {
      "cell_type": "code",
      "execution_count": 3,
      "metadata": {
        "colab": {
          "base_uri": "https://localhost:8080/",
          "height": 419
        },
        "id": "JCp-p_1M5iHy",
        "outputId": "77ccee28-4ef3-48be-e8ac-b1d6a88ba6c7"
      },
      "outputs": [
        {
          "data": {
            "text/html": [
              "<div>\n",
              "<style scoped>\n",
              "    .dataframe tbody tr th:only-of-type {\n",
              "        vertical-align: middle;\n",
              "    }\n",
              "\n",
              "    .dataframe tbody tr th {\n",
              "        vertical-align: top;\n",
              "    }\n",
              "\n",
              "    .dataframe thead th {\n",
              "        text-align: right;\n",
              "    }\n",
              "</style>\n",
              "<table border=\"1\" class=\"dataframe\">\n",
              "  <thead>\n",
              "    <tr style=\"text-align: right;\">\n",
              "      <th></th>\n",
              "      <th>Year</th>\n",
              "      <th>Tmax</th>\n",
              "    </tr>\n",
              "  </thead>\n",
              "  <tbody>\n",
              "    <tr>\n",
              "      <th>6</th>\n",
              "      <td>1957</td>\n",
              "      <td>22.5</td>\n",
              "    </tr>\n",
              "    <tr>\n",
              "      <th>18</th>\n",
              "      <td>1958</td>\n",
              "      <td>21.7</td>\n",
              "    </tr>\n",
              "    <tr>\n",
              "      <th>30</th>\n",
              "      <td>1959</td>\n",
              "      <td>24.7</td>\n",
              "    </tr>\n",
              "    <tr>\n",
              "      <th>42</th>\n",
              "      <td>1960</td>\n",
              "      <td>20.1</td>\n",
              "    </tr>\n",
              "    <tr>\n",
              "      <th>54</th>\n",
              "      <td>1961</td>\n",
              "      <td>22.1</td>\n",
              "    </tr>\n",
              "  </tbody>\n",
              "</table>\n",
              "</div>"
            ],
            "text/plain": [
              "    Year  Tmax\n",
              "6   1957  22.5\n",
              "18  1958  21.7\n",
              "30  1959  24.7\n",
              "42  1960  20.1\n",
              "54  1961  22.1"
            ]
          },
          "execution_count": 3,
          "metadata": {},
          "output_type": "execute_result"
        }
      ],
      "source": [
        "# summer month in London is July\n",
        "july = weather.query('Month == 7').loc[:, ['Year', 'Tmax']]\n",
        "july.head()\n"
      ]
    },
    {
      "cell_type": "markdown",
      "metadata": {},
      "source": [
        "Summary statistics for historic July maximum temperatures:"
      ]
    },
    {
      "cell_type": "code",
      "execution_count": 4,
      "metadata": {},
      "outputs": [
        {
          "data": {
            "text/plain": [
              "count    62.000000\n",
              "mean     23.077419\n",
              "std       2.109185\n",
              "min      19.300000\n",
              "25%      21.450000\n",
              "50%      22.750000\n",
              "75%      24.200000\n",
              "max      28.300000\n",
              "Name: Tmax, dtype: float64"
            ]
          },
          "execution_count": 4,
          "metadata": {},
          "output_type": "execute_result"
        }
      ],
      "source": [
        "july['Tmax'].describe()"
      ]
    },
    {
      "cell_type": "markdown",
      "metadata": {
        "id": "fIzb95g-5iHz"
      },
      "source": [
        "Plot the maximum temperatures for July since 1957."
      ]
    },
    {
      "cell_type": "code",
      "execution_count": 5,
      "metadata": {
        "colab": {
          "base_uri": "https://localhost:8080/",
          "height": 312
        },
        "id": "CCWBGCfz5iH0",
        "outputId": "7dcea49a-e2f5-4608-ea82-aa5dda480813"
      },
      "outputs": [
        {
          "data": {
            "image/png": "[encoded data removed]",
            "text/plain": [
              "<Figure size 432x288 with 1 Axes>"
            ]
          },
          "metadata": {
            "needs_background": "light"
          },
          "output_type": "display_data"
        }
      ],
      "source": [
        "# uses the 'july' dataframe to plot by column name\n",
        "ax = july.plot(x='Year', y='Tmax', label='July Maximum', kind='scatter')\n",
        "ax.set_xlabel('Year')\n",
        "ax.set_ylabel('Maximum Temperature °C')\n",
        "ax.set_title('London July Maximum Temperatures')\n",
        "plt.show()"
      ]
    },
    {
      "cell_type": "markdown",
      "metadata": {
        "id": "ntdS_JzJ5iH_"
      },
      "source": [
        "Fit a linear regression (degree = 1) to year index versus maximum temperature:"
      ]
    },
    {
      "cell_type": "markdown",
      "metadata": {
        "id": "68ndsLhm5iIB"
      },
      "source": [
        "First, build the temperature model."
      ]
    },
    {
      "cell_type": "code",
      "execution_count": 15,
      "metadata": {
        "colab": {
          "base_uri": "https://localhost:8080/"
        },
        "id": "m8WycaGW5iIA",
        "outputId": "ff5fd4ec-35ab-448f-b203-0454746f67d8"
      },
      "outputs": [
        {
          "data": {
            "text/plain": [
              "array([ 1.15561494e-04, -4.11269508e-01,  3.83952599e+02])"
            ]
          },
          "execution_count": 15,
          "metadata": {},
          "output_type": "execute_result"
        }
      ],
      "source": [
        "# least squares polynomial fit (returns polynomial coefficients)\n",
        "pc = np.polyfit(x = july['Year'], y = july['Tmax'], deg = 2)\n",
        "pc"
      ]
    },
    {
      "cell_type": "code",
      "execution_count": 16,
      "metadata": {
        "colab": {
          "base_uri": "https://localhost:8080/"
        },
        "id": "zrz5IrxT8dh1",
        "outputId": "a40332a9-65d2-4ff3-c103-92d98b29224c"
      },
      "outputs": [
        {
          "data": {
            "text/plain": [
              "poly1d([ 1.15561494e-04, -4.11269508e-01,  3.83952599e+02])"
            ]
          },
          "execution_count": 16,
          "metadata": {},
          "output_type": "execute_result"
        }
      ],
      "source": [
        "# convert to pandas 1-dimensional polynomial so we can fit to dataframe\n",
        "f = np.poly1d(pc)\n",
        "f"
      ]
    },
    {
      "cell_type": "markdown",
      "metadata": {
        "id": "4gOU2RC69AeC"
      },
      "source": [
        "Copy July as we are about to append the predictions to it."
      ]
    },
    {
      "cell_type": "code",
      "execution_count": 17,
      "metadata": {
        "colab": {
          "base_uri": "https://localhost:8080/",
          "height": 419
        },
        "id": "xmxUSjd45iIC",
        "outputId": "f7acd326-83aa-4e8d-8a01-4e0149f5b10c"
      },
      "outputs": [
        {
          "data": {
            "text/html": [
              "<div>\n",
              "<style scoped>\n",
              "    .dataframe tbody tr th:only-of-type {\n",
              "        vertical-align: middle;\n",
              "    }\n",
              "\n",
              "    .dataframe tbody tr th {\n",
              "        vertical-align: top;\n",
              "    }\n",
              "\n",
              "    .dataframe thead th {\n",
              "        text-align: right;\n",
              "    }\n",
              "</style>\n",
              "<table border=\"1\" class=\"dataframe\">\n",
              "  <thead>\n",
              "    <tr style=\"text-align: right;\">\n",
              "      <th></th>\n",
              "      <th>Year</th>\n",
              "      <th>Tmax</th>\n",
              "    </tr>\n",
              "  </thead>\n",
              "  <tbody>\n",
              "    <tr>\n",
              "      <th>690</th>\n",
              "      <td>2014</td>\n",
              "      <td>25.8</td>\n",
              "    </tr>\n",
              "    <tr>\n",
              "      <th>702</th>\n",
              "      <td>2015</td>\n",
              "      <td>23.7</td>\n",
              "    </tr>\n",
              "    <tr>\n",
              "      <th>714</th>\n",
              "      <td>2016</td>\n",
              "      <td>24.0</td>\n",
              "    </tr>\n",
              "    <tr>\n",
              "      <th>726</th>\n",
              "      <td>2017</td>\n",
              "      <td>23.8</td>\n",
              "    </tr>\n",
              "    <tr>\n",
              "      <th>738</th>\n",
              "      <td>2018</td>\n",
              "      <td>28.3</td>\n",
              "    </tr>\n",
              "  </tbody>\n",
              "</table>\n",
              "</div>"
            ],
            "text/plain": [
              "     Year  Tmax\n",
              "690  2014  25.8\n",
              "702  2015  23.7\n",
              "714  2016  24.0\n",
              "726  2017  23.8\n",
              "738  2018  28.3"
            ]
          },
          "execution_count": 17,
          "metadata": {},
          "output_type": "execute_result"
        }
      ],
      "source": [
        "july_pred = july[['Year', 'Tmax']].copy(deep=True)\n",
        "july_pred.tail()"
      ]
    },
    {
      "cell_type": "markdown",
      "metadata": {
        "id": "X9Rv3qn-5iID"
      },
      "source": [
        "Insert regression data to the end of the copied data frame."
      ]
    },
    {
      "cell_type": "code",
      "execution_count": 18,
      "metadata": {
        "colab": {
          "base_uri": "https://localhost:8080/",
          "height": 419
        },
        "id": "xNxJUr9A5iID",
        "outputId": "755e1d5c-dd52-438a-b771-08a0fdad1871"
      },
      "outputs": [
        {
          "data": {
            "text/html": [
              "<div>\n",
              "<style scoped>\n",
              "    .dataframe tbody tr th:only-of-type {\n",
              "        vertical-align: middle;\n",
              "    }\n",
              "\n",
              "    .dataframe tbody tr th {\n",
              "        vertical-align: top;\n",
              "    }\n",
              "\n",
              "    .dataframe thead th {\n",
              "        text-align: right;\n",
              "    }\n",
              "</style>\n",
              "<table border=\"1\" class=\"dataframe\">\n",
              "  <thead>\n",
              "    <tr style=\"text-align: right;\">\n",
              "      <th></th>\n",
              "      <th>Year</th>\n",
              "      <th>Tmax</th>\n",
              "      <th>Tpred</th>\n",
              "    </tr>\n",
              "  </thead>\n",
              "  <tbody>\n",
              "    <tr>\n",
              "      <th>690</th>\n",
              "      <td>2014</td>\n",
              "      <td>25.8</td>\n",
              "      <td>24.395881</td>\n",
              "    </tr>\n",
              "    <tr>\n",
              "      <th>702</th>\n",
              "      <td>2015</td>\n",
              "      <td>23.7</td>\n",
              "      <td>24.450209</td>\n",
              "    </tr>\n",
              "    <tr>\n",
              "      <th>714</th>\n",
              "      <td>2016</td>\n",
              "      <td>24.0</td>\n",
              "      <td>24.504767</td>\n",
              "    </tr>\n",
              "    <tr>\n",
              "      <th>726</th>\n",
              "      <td>2017</td>\n",
              "      <td>23.8</td>\n",
              "      <td>24.559557</td>\n",
              "    </tr>\n",
              "    <tr>\n",
              "      <th>738</th>\n",
              "      <td>2018</td>\n",
              "      <td>28.3</td>\n",
              "      <td>24.614579</td>\n",
              "    </tr>\n",
              "  </tbody>\n",
              "</table>\n",
              "</div>"
            ],
            "text/plain": [
              "     Year  Tmax      Tpred\n",
              "690  2014  25.8  24.395881\n",
              "702  2015  23.7  24.450209\n",
              "714  2016  24.0  24.504767\n",
              "726  2017  23.8  24.559557\n",
              "738  2018  28.3  24.614579"
            ]
          },
          "execution_count": 18,
          "metadata": {},
          "output_type": "execute_result"
        }
      ],
      "source": [
        "# add new column containing linear regression polynomial\n",
        "july_pred['Tpred'] = f(july['Year'])\n",
        "july_pred.tail()"
      ]
    },
    {
      "cell_type": "markdown",
      "metadata": {
        "id": "FqVjWsRy5iIE"
      },
      "source": [
        "Plot the results by:\n",
        "\n",
        "- plotting the temperature versus year index\n",
        "- adding the regression line (in red)"
      ]
    },
    {
      "cell_type": "code",
      "execution_count": 19,
      "metadata": {
        "colab": {
          "base_uri": "https://localhost:8080/",
          "height": 312
        },
        "id": "rphf6IoZ5iIE",
        "outputId": "f3491178-496d-4b87-e7a4-adc142dfcfd1"
      },
      "outputs": [
        {
          "data": {
            "image/png": "[encoded data removed]",
            "text/plain": [
              "<Figure size 432x288 with 1 Axes>"
            ]
          },
          "metadata": {
            "needs_background": "light"
          },
          "output_type": "display_data"
        }
      ],
      "source": [
        "ax = plt.gca()    # get current axes\n",
        "july_pred.plot(kind='scatter', x='Year', y='Tmax', label='July Maximum', ax=ax)\n",
        "july_pred.plot('Year', 'Tpred', color='red', label='Temperature Trend', ax=ax)\n",
        "plt.title('London July Maximum Temperatures')\n",
        "plt.xlabel('Year')\n",
        "plt.ylabel('Maximum Temperature °C')\n",
        "plt.legend()\n",
        "plt.show()"
      ]
    },
    {
      "cell_type": "markdown",
      "metadata": {
        "id": "eTMtIhw9Ai8d"
      },
      "source": [
        "From this graph it is easy to see the steady July maximum temperature increase from 1956 till 2019."
      ]
    },
    {
      "cell_type": "markdown",
      "metadata": {},
      "source": [
        "### Temperatures beyond 2020?\n",
        "\n",
        "What are the expected temperatures beyond 2020?"
      ]
    },
    {
      "cell_type": "code",
      "execution_count": 20,
      "metadata": {},
      "outputs": [],
      "source": [
        "# extend years to 2040\n",
        "july_pred = pd.DataFrame(data=np.append(july.Year, np.arange(2020, 2040 + 1)), columns=['Year'])"
      ]
    },
    {
      "cell_type": "code",
      "execution_count": 21,
      "metadata": {},
      "outputs": [],
      "source": [
        "# extend temperatures to 2040 (fill with Nan) and add to dataframe\n",
        "july_pred['Tmax'] = pd.Series(np.append(july.Tmax, np.full(20, None)))"
      ]
    },
    {
      "cell_type": "markdown",
      "metadata": {},
      "source": [
        "Add temperature predictions to dataframe."
      ]
    },
    {
      "cell_type": "code",
      "execution_count": 22,
      "metadata": {},
      "outputs": [],
      "source": [
        "# make future predictions (uses prediction function from above)\n",
        "july_pred['Tpred'] = pd.Series(f(july_pred.Year))"
      ]
    },
    {
      "cell_type": "markdown",
      "metadata": {},
      "source": [
        "Plot temperature predictions:"
      ]
    },
    {
      "cell_type": "code",
      "execution_count": 23,
      "metadata": {},
      "outputs": [
        {
          "data": {
            "image/png": "[encoded data removed]",
            "text/plain": [
              "<Figure size 432x288 with 1 Axes>"
            ]
          },
          "metadata": {
            "needs_background": "light"
          },
          "output_type": "display_data"
        }
      ],
      "source": [
        "ax = plt.gca()  # get current axes\n",
        "july_pred.plot(kind='scatter', x='Year', y='Tmax', label='July Maximum', ax=ax)\n",
        "july_pred.plot('Year', 'Tpred', color='red', label='Temperature Trend', ax=ax)\n",
        "plt.title('London Expected July Maximum Temperatures to 2040')\n",
        "plt.xlabel('Year')\n",
        "plt.ylabel('Maximum Temperature °C')\n",
        "plt.legend()\n",
        "plt.show()"
      ]
    }
  ],
  "metadata": {
    "colab": {
      "collapsed_sections": [],
      "name": "linear-regression-numpy.ipynb",
      "provenance": []
    },
    "interpreter": {
      "hash": "31f2aee4e71d21fbe5cf8b01ff0e069b9275f58929596ceb00d14d90e3e16cd6"
    },
    "kernelspec": {
      "display_name": "Python 3.9.7 64-bit",
      "name": "python3"
    },
    "language_info": {
      "codemirror_mode": {
        "name": "ipython",
        "version": 3
      },
      "file_extension": ".py",
      "mimetype": "text/x-python",
      "name": "python",
      "nbconvert_exporter": "python",
      "pygments_lexer": "ipython3",
      "version": "3.9.7"
    },
    "orig_nbformat": 4
  },
  "nbformat": 4,
  "nbformat_minor": 0
}
