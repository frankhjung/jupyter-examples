{
  "nbformat": 4,
  "nbformat_minor": 0,
  "metadata": {
    "colab": {
      "name": "kaggle-data-pipelines.ipynb",
      "version": "0.3.2",
      "provenance": [],
      "toc_visible": true
    },
    "kernelspec": {
      "name": "python3",
      "display_name": "Python 3"
    }
  },
  "cells": [
    {
      "metadata": {
        "id": "nwcGjG84KJ6C",
        "colab_type": "text"
      },
      "cell_type": "markdown",
      "source": [
        "# Kaggle Data Pipelines\n"
      ]
    },
    {
      "metadata": {
        "id": "RlXUwJizM-eH",
        "colab_type": "text"
      },
      "cell_type": "markdown",
      "source": [
        "## Day 1 - Dataset Versioning\n",
        "\n",
        "Open Source Tools for versioning datasets:\n",
        "\n",
        "* [Data Version Control(DVC)](https://dvc.org/) - This is a commandline only tool based on [Git](https://git-scm.com/)\n",
        "* [Git Large File Storage](https://git-lfs.github.com/) - replaces large files such as audio samples, videos, datasets, and graphics with text pointers inside Git, while storing the file contents on a remote server like [GitHub.com](https://github.com/).\n",
        "\n",
        "## Versioning a Dataset on Kaggle\n",
        "\n",
        "Example: https://www.kaggle.com/frankhjung/debian-data/settings\n",
        "\n",
        "![Set versioning](https://raw.githubusercontent.com/frankhjung/jupyter-notebook-examples/master/images/kaggle-dataset-versioning.png)\n"
      ]
    },
    {
      "metadata": {
        "id": "lmEXijjTNN8O",
        "colab_type": "text"
      },
      "cell_type": "markdown",
      "source": [
        "## References\n",
        "\n",
        "* [A Practical Taxonomy of Reproducibility for Machine\n",
        "Learning Research (PDF)](https://openreview.net/pdf?id=B1eYYK5QgX)"
      ]
    }
  ]
}